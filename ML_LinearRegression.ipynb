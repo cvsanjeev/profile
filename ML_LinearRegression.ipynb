{
  "cells": [
    {
      "cell_type": "markdown",
      "metadata": {
        "id": "view-in-github",
        "colab_type": "text"
      },
      "source": [
        "<a href=\"https://colab.research.google.com/github/cvsanjeev/profile/blob/main/ML_LinearRegression.ipynb\" target=\"_parent\"><img src=\"https://colab.research.google.com/assets/colab-badge.svg\" alt=\"Open In Colab\"/></a>"
      ]
    },
    {
      "cell_type": "code",
      "execution_count": 267,
      "metadata": {
        "id": "IkrG4QJmUCfU"
      },
      "outputs": [],
      "source": [
        "import numpy as np\n",
        "import matplotlib.pyplot as plt\n",
        "import pandas as pd"
      ]
    },
    {
      "cell_type": "code",
      "execution_count": 268,
      "metadata": {
        "id": "XJKGiarMUCfX"
      },
      "outputs": [],
      "source": [
        "def computeCost(X,y,theta):\n",
        "    \n",
        "    m=len(y)\n",
        "    preds=X.dot(theta)\n",
        "    sq_err=(preds - y)**2\n",
        "    J=1/(2*m) * np.sum(sq_err)\n",
        "    \n",
        "    return J"
      ]
    },
    {
      "cell_type": "code",
      "execution_count": 269,
      "metadata": {
        "id": "TjvUzU4RUCfY"
      },
      "outputs": [],
      "source": [
        "def gradientDescent(X,y,theta,alpha,iter):\n",
        "    \n",
        "    m=len(y)\n",
        "    J_history=[]\n",
        "    \n",
        "    for i in range(iter):\n",
        "        preds = X.dot(theta)\n",
        "        error = np.dot(X.transpose(),(preds -y))\n",
        "        des=alpha * (1/m) * error\n",
        "        theta-=des\n",
        "        J_history.append(computeCost(X,y,theta))\n",
        "        if ((i % 10 == 0)&(i<=300)):\n",
        "            print(f'Cost after {i} iterations: {computeCost(X,y,theta)}')\n",
        "    \n",
        "    return theta, J_history"
      ]
    },
    {
      "cell_type": "code",
      "execution_count": 270,
      "metadata": {
        "id": "tysLdj3BUCfb"
      },
      "outputs": [],
      "source": [
        "def predict(x,theta):\n",
        "    x_sample1=(x.astype(int)).reshape(1,5)\n",
        "    x_sample2=np.concatenate((X_t,x_sample1), axis=0)\n",
        "    x_sample3,_,_=normalization(x_sample2)\n",
        "    x_sample4=x_sample3[-1,:].reshape(1,5)\n",
        "    x_sample5=np.append(np.ones(1),x_sample4)\n",
        "    preds= np.dot(theta.transpose(),x_sample5)\n",
        "    \n",
        "    return preds[0]"
      ]
    },
    {
      "cell_type": "code",
      "execution_count": 271,
      "metadata": {
        "id": "NjckK0ZgUCfc"
      },
      "outputs": [],
      "source": [
        "med_data=pd.read_csv(\"/content/linear_regression_dataset.csv\", header=None)"
      ]
    },
    {
      "cell_type": "code",
      "execution_count": 272,
      "metadata": {
        "id": "t4zSiugJUCfc",
        "outputId": "49eb9a0f-ef85-414b-ed40-6f452ec8743d",
        "colab": {
          "base_uri": "https://localhost:8080/",
          "height": 204
        }
      },
      "outputs": [
        {
          "output_type": "execute_result",
          "data": {
            "text/html": [
              "\n",
              "  <div id=\"df-1288c936-4c4a-49d0-8d4f-7a3489b5e385\">\n",
              "    <div class=\"colab-df-container\">\n",
              "      <div>\n",
              "<style scoped>\n",
              "    .dataframe tbody tr th:only-of-type {\n",
              "        vertical-align: middle;\n",
              "    }\n",
              "\n",
              "    .dataframe tbody tr th {\n",
              "        vertical-align: top;\n",
              "    }\n",
              "\n",
              "    .dataframe thead th {\n",
              "        text-align: right;\n",
              "    }\n",
              "</style>\n",
              "<table border=\"1\" class=\"dataframe\">\n",
              "  <thead>\n",
              "    <tr style=\"text-align: right;\">\n",
              "      <th></th>\n",
              "      <th>0</th>\n",
              "      <th>1</th>\n",
              "      <th>2</th>\n",
              "      <th>3</th>\n",
              "      <th>4</th>\n",
              "      <th>5</th>\n",
              "    </tr>\n",
              "  </thead>\n",
              "  <tbody>\n",
              "    <tr>\n",
              "      <th>0</th>\n",
              "      <td>AGE</td>\n",
              "      <td>FEMALE</td>\n",
              "      <td>LOS</td>\n",
              "      <td>RACE</td>\n",
              "      <td>TOTCHG</td>\n",
              "      <td>APRDRG</td>\n",
              "    </tr>\n",
              "    <tr>\n",
              "      <th>1</th>\n",
              "      <td>17</td>\n",
              "      <td>1</td>\n",
              "      <td>2</td>\n",
              "      <td>1</td>\n",
              "      <td>2660</td>\n",
              "      <td>560</td>\n",
              "    </tr>\n",
              "    <tr>\n",
              "      <th>2</th>\n",
              "      <td>17</td>\n",
              "      <td>0</td>\n",
              "      <td>2</td>\n",
              "      <td>1</td>\n",
              "      <td>1689</td>\n",
              "      <td>753</td>\n",
              "    </tr>\n",
              "    <tr>\n",
              "      <th>3</th>\n",
              "      <td>17</td>\n",
              "      <td>1</td>\n",
              "      <td>7</td>\n",
              "      <td>1</td>\n",
              "      <td>20060</td>\n",
              "      <td>930</td>\n",
              "    </tr>\n",
              "    <tr>\n",
              "      <th>4</th>\n",
              "      <td>17</td>\n",
              "      <td>1</td>\n",
              "      <td>1</td>\n",
              "      <td>1</td>\n",
              "      <td>736</td>\n",
              "      <td>758</td>\n",
              "    </tr>\n",
              "  </tbody>\n",
              "</table>\n",
              "</div>\n",
              "      <button class=\"colab-df-convert\" onclick=\"convertToInteractive('df-1288c936-4c4a-49d0-8d4f-7a3489b5e385')\"\n",
              "              title=\"Convert this dataframe to an interactive table.\"\n",
              "              style=\"display:none;\">\n",
              "        \n",
              "  <svg xmlns=\"http://www.w3.org/2000/svg\" height=\"24px\"viewBox=\"0 0 24 24\"\n",
              "       width=\"24px\">\n",
              "    <path d=\"M0 0h24v24H0V0z\" fill=\"none\"/>\n",
              "    <path d=\"M18.56 5.44l.94 2.06.94-2.06 2.06-.94-2.06-.94-.94-2.06-.94 2.06-2.06.94zm-11 1L8.5 8.5l.94-2.06 2.06-.94-2.06-.94L8.5 2.5l-.94 2.06-2.06.94zm10 10l.94 2.06.94-2.06 2.06-.94-2.06-.94-.94-2.06-.94 2.06-2.06.94z\"/><path d=\"M17.41 7.96l-1.37-1.37c-.4-.4-.92-.59-1.43-.59-.52 0-1.04.2-1.43.59L10.3 9.45l-7.72 7.72c-.78.78-.78 2.05 0 2.83L4 21.41c.39.39.9.59 1.41.59.51 0 1.02-.2 1.41-.59l7.78-7.78 2.81-2.81c.8-.78.8-2.07 0-2.86zM5.41 20L4 18.59l7.72-7.72 1.47 1.35L5.41 20z\"/>\n",
              "  </svg>\n",
              "      </button>\n",
              "      \n",
              "  <style>\n",
              "    .colab-df-container {\n",
              "      display:flex;\n",
              "      flex-wrap:wrap;\n",
              "      gap: 12px;\n",
              "    }\n",
              "\n",
              "    .colab-df-convert {\n",
              "      background-color: #E8F0FE;\n",
              "      border: none;\n",
              "      border-radius: 50%;\n",
              "      cursor: pointer;\n",
              "      display: none;\n",
              "      fill: #1967D2;\n",
              "      height: 32px;\n",
              "      padding: 0 0 0 0;\n",
              "      width: 32px;\n",
              "    }\n",
              "\n",
              "    .colab-df-convert:hover {\n",
              "      background-color: #E2EBFA;\n",
              "      box-shadow: 0px 1px 2px rgba(60, 64, 67, 0.3), 0px 1px 3px 1px rgba(60, 64, 67, 0.15);\n",
              "      fill: #174EA6;\n",
              "    }\n",
              "\n",
              "    [theme=dark] .colab-df-convert {\n",
              "      background-color: #3B4455;\n",
              "      fill: #D2E3FC;\n",
              "    }\n",
              "\n",
              "    [theme=dark] .colab-df-convert:hover {\n",
              "      background-color: #434B5C;\n",
              "      box-shadow: 0px 1px 3px 1px rgba(0, 0, 0, 0.15);\n",
              "      filter: drop-shadow(0px 1px 2px rgba(0, 0, 0, 0.3));\n",
              "      fill: #FFFFFF;\n",
              "    }\n",
              "  </style>\n",
              "\n",
              "      <script>\n",
              "        const buttonEl =\n",
              "          document.querySelector('#df-1288c936-4c4a-49d0-8d4f-7a3489b5e385 button.colab-df-convert');\n",
              "        buttonEl.style.display =\n",
              "          google.colab.kernel.accessAllowed ? 'block' : 'none';\n",
              "\n",
              "        async function convertToInteractive(key) {\n",
              "          const element = document.querySelector('#df-1288c936-4c4a-49d0-8d4f-7a3489b5e385');\n",
              "          const dataTable =\n",
              "            await google.colab.kernel.invokeFunction('convertToInteractive',\n",
              "                                                     [key], {});\n",
              "          if (!dataTable) return;\n",
              "\n",
              "          const docLinkHtml = 'Like what you see? Visit the ' +\n",
              "            '<a target=\"_blank\" href=https://colab.research.google.com/notebooks/data_table.ipynb>data table notebook</a>'\n",
              "            + ' to learn more about interactive tables.';\n",
              "          element.innerHTML = '';\n",
              "          dataTable['output_type'] = 'display_data';\n",
              "          await google.colab.output.renderOutput(dataTable, element);\n",
              "          const docLink = document.createElement('div');\n",
              "          docLink.innerHTML = docLinkHtml;\n",
              "          element.appendChild(docLink);\n",
              "        }\n",
              "      </script>\n",
              "    </div>\n",
              "  </div>\n",
              "  "
            ],
            "text/plain": [
              "     0       1    2     3       4       5\n",
              "0  AGE  FEMALE  LOS  RACE  TOTCHG  APRDRG\n",
              "1   17       1    2     1    2660     560\n",
              "2   17       0    2     1    1689     753\n",
              "3   17       1    7     1   20060     930\n",
              "4   17       1    1     1     736     758"
            ]
          },
          "metadata": {},
          "execution_count": 272
        }
      ],
      "source": [
        "med_data.head()"
      ]
    },
    {
      "cell_type": "code",
      "execution_count": 273,
      "metadata": {
        "id": "4RYvW39nUCfc",
        "outputId": "98422658-3b78-4a6f-fbd0-b168b97a61b6",
        "colab": {
          "base_uri": "https://localhost:8080/"
        }
      },
      "outputs": [
        {
          "output_type": "execute_result",
          "data": {
            "text/plain": [
              "0    0\n",
              "1    0\n",
              "2    0\n",
              "3    0\n",
              "4    0\n",
              "5    0\n",
              "dtype: int64"
            ]
          },
          "metadata": {},
          "execution_count": 273
        }
      ],
      "source": [
        "med_data.dropna(inplace = True)\n",
        "med_data = med_data.drop(labels=0, axis=0)\n",
        "med_data.isnull().sum()\n"
      ]
    },
    {
      "cell_type": "code",
      "execution_count": 274,
      "metadata": {
        "id": "O4Vm1WFmUCfd"
      },
      "outputs": [],
      "source": [
        "def normalization(X):\n",
        "    \n",
        "    mu=np.mean(X,axis=0)\n",
        "    st=np.std(X,axis=0)\n",
        "    \n",
        "    X_norm = (X - mu)/st\n",
        "    print(X_norm)\n",
        "    \n",
        "    return X_norm , mu , st"
      ]
    },
    {
      "cell_type": "code",
      "execution_count": 275,
      "metadata": {
        "id": "k7FkgptaUCfe"
      },
      "outputs": [],
      "source": [
        "med_data2=med_data.values\n",
        "m=len(med_data2[:,-1])\n",
        "X_m2=med_data2[:,0:4].reshape(m,4)\n",
        "X_m1=med_data2[:,-1].reshape(m,1)\n",
        "X_m=np.concatenate((X_m2,X_m1), axis=1)\n",
        "X_m = X_m.astype(int)\n",
        "X_t=X_m"
      ]
    },
    {
      "cell_type": "code",
      "source": [
        "X_m, mean_X_m, std_X_m = normalization(X_m)\n",
        "X_m = np.append(np.ones((m,1)),X_m,axis=1)\n",
        "y_m=med_data2[:,-2].reshape(m,1)\n",
        "y_m=y_m.astype(int)\n",
        "theta2=np.zeros((6,1))"
      ],
      "metadata": {
        "id": "8qt7vp7pZII0",
        "colab": {
          "base_uri": "https://localhost:8080/"
        },
        "outputId": "3ed11f08-4e8b-4865-a74c-4b8175cee6d4"
      },
      "execution_count": 276,
      "outputs": [
        {
          "output_type": "stream",
          "name": "stdout",
          "text": [
            "[[ 1.71382949  0.97819361 -0.24668147 -0.15198702 -0.31580792]\n",
            " [ 1.71382949 -1.02229251 -0.24668147 -0.15198702  0.7665591 ]\n",
            " [ 1.71382949  0.97819361  1.23996167 -0.15198702  1.75919622]\n",
            " ...\n",
            " [-0.73371522  0.97819361 -0.24668147 -0.15198702  0.13284162]\n",
            " [-0.73371522  0.97819361 -0.24668147 -0.15198702  0.13284162]\n",
            " [-0.73371522 -1.02229251  0.34797579 -0.15198702  0.13284162]]\n"
          ]
        }
      ]
    },
    {
      "cell_type": "code",
      "execution_count": 277,
      "metadata": {
        "id": "uweMh5ngUCfe",
        "outputId": "d08f0c54-3ad6-42d1-fbaf-8c8e9b7c22c5",
        "colab": {
          "base_uri": "https://localhost:8080/"
        }
      },
      "outputs": [
        {
          "output_type": "execute_result",
          "data": {
            "text/plain": [
              "11414843.951903807"
            ]
          },
          "metadata": {},
          "execution_count": 277
        }
      ],
      "source": [
        "computeCost(X_m,y_m,theta2)"
      ]
    },
    {
      "cell_type": "code",
      "execution_count": 278,
      "metadata": {
        "id": "Id156hoVUCff",
        "outputId": "71ca9a76-b2fb-401c-89b1-012b2d63520c",
        "colab": {
          "base_uri": "https://localhost:8080/"
        }
      },
      "outputs": [
        {
          "output_type": "stream",
          "name": "stdout",
          "text": [
            "Cost after 0 iterations: 11260123.756573386\n",
            "Cost after 10 iterations: 9869090.398381019\n",
            "Cost after 20 iterations: 8725676.960861402\n",
            "Cost after 30 iterations: 7785379.135390386\n",
            "Cost after 40 iterations: 7011774.376126768\n",
            "Cost after 50 iterations: 6375037.384956135\n",
            "Cost after 60 iterations: 5850731.8516133055\n",
            "Cost after 70 iterations: 5418826.264413408\n",
            "Cost after 80 iterations: 5062891.6368464995\n",
            "Cost after 90 iterations: 4769447.058765342\n",
            "Cost after 100 iterations: 4527425.4722114\n",
            "Cost after 110 iterations: 4327737.304304422\n",
            "Cost after 120 iterations: 4162913.812384696\n",
            "Cost after 130 iterations: 4026815.408528319\n",
            "Cost after 140 iterations: 3914392.990406023\n",
            "Cost after 150 iterations: 3821492.5402055755\n",
            "Cost after 160 iterations: 3744695.06470901\n",
            "Cost after 170 iterations: 3681185.4192167018\n",
            "Cost after 180 iterations: 3628644.751403313\n",
            "Cost after 190 iterations: 3585162.271119339\n",
            "Cost after 200 iterations: 3549162.841101367\n",
            "Cost after 210 iterations: 3519347.5257886406\n",
            "Cost after 220 iterations: 3494644.7586294278\n",
            "Cost after 230 iterations: 3474170.2147622057\n",
            "Cost after 240 iterations: 3457193.8238708912\n",
            "Cost after 250 iterations: 3443112.64199945\n",
            "Cost after 260 iterations: 3431428.5330544985\n",
            "Cost after 270 iterations: 3421729.8002707683\n",
            "Cost after 280 iterations: 3413676.062897696\n",
            "Cost after 290 iterations: 3406985.800154489\n",
            "Cost after 300 iterations: 3401426.0882769553\n",
            "h(x) =2777.63 + 935.55506x1 + -195.3x2 +2499.43x3 +-109.24x4 +-1389.23x5\n"
          ]
        }
      ],
      "source": [
        "theta2, J_history_m = gradientDescent(X_m,y_m,theta2,0.01,20000)\n",
        "print(\"h(x) =\"+str(round(theta2[0,0],2))+\" + \"+str(round(theta2[1,0],5))+\"x1 + \"+str(round(theta2[2,0],2))+\"x2 +\"+str(round(theta2[3,0],2))+\"x3 +\"+str(round(theta2[4,0],2))+\"x4 +\"+str(round(theta2[5,0],2))+\"x5\")"
      ]
    },
    {
      "cell_type": "code",
      "execution_count": 279,
      "metadata": {
        "id": "7HQphK9sUCfg",
        "outputId": "96f4c6b0-7d35-42e5-f8df-cc7fa10abc02",
        "colab": {
          "base_uri": "https://localhost:8080/",
          "height": 312
        }
      },
      "outputs": [
        {
          "output_type": "execute_result",
          "data": {
            "text/plain": [
              "Text(0.5, 1.0, 'Cost function ')"
            ]
          },
          "metadata": {},
          "execution_count": 279
        },
        {
          "output_type": "display_data",
          "data": {
            "image/png": "[encoded data removed]",
            "text/plain": [
              "<Figure size 432x288 with 1 Axes>"
            ]
          },
          "metadata": {
            "needs_background": "light"
          }
        }
      ],
      "source": [
        "plt.plot(J_history_m)\n",
        "plt.xlabel(\"Iteration\")\n",
        "plt.ylabel(\"$J(\\Theta)$\")\n",
        "plt.title(\"Cost function \")"
      ]
    },
    {
      "cell_type": "code",
      "execution_count": 281,
      "metadata": {
        "id": "gLVwDUTXUCfg",
        "colab": {
          "base_uri": "https://localhost:8080/"
        },
        "outputId": "377c8148-669b-4e08-dcd2-bbe1042f3fe7"
      },
      "outputs": [
        {
          "output_type": "stream",
          "name": "stdout",
          "text": [
            "[[ 1.71609121  0.98019606 -0.24641967 -0.15183145 -0.31638457]\n",
            " [ 1.71609121 -1.02020406 -0.24641967 -0.15183145  0.76704733]\n",
            " [ 1.71609121  0.98019606  1.2416218  -0.15183145  1.76066104]\n",
            " ...\n",
            " [-0.73258686  0.98019606 -0.24641967 -0.15183145  0.13270637]\n",
            " [-0.73258686 -1.02020406  0.34879692 -0.15183145  0.13270637]\n",
            " [-0.73258686 -1.02020406 -0.24641967 -0.15183145  0.13270637]]\n",
            "\n",
            "Predicted TOTCHG is 1508.0\n"
          ]
        }
      ],
      "source": [
        "#x_sample = normalization(np.array([17,2,2,1,560]))[0]\n",
        "x_sample=np.array([0,0,2,1,640])\n",
        "predict_tot=predict(x_sample,theta2)\n",
        "print(\"\")\n",
        "print(\"Predicted TOTCHG is \"+str(round(predict_tot,0)))"
      ]
    },
    {
      "cell_type": "code",
      "execution_count": null,
      "metadata": {
        "id": "NAxJOcFEUCfg"
      },
      "outputs": [],
      "source": [
        ""
      ]
    }
  ],
  "metadata": {
    "kernelspec": {
      "display_name": "Python 3",
      "language": "python",
      "name": "python3"
    },
    "language_info": {
      "codemirror_mode": {
        "name": "ipython",
        "version": 3
      },
      "file_extension": ".py",
      "mimetype": "text/x-python",
      "name": "python",
      "nbconvert_exporter": "python",
      "pygments_lexer": "ipython3",
      "version": "3.6.5"
    },
    "colab": {
      "name": "ML_LinearRegression.ipynb",
      "provenance": [],
      "include_colab_link": true
    }
  },
  "nbformat": 4,
  "nbformat_minor": 0
}